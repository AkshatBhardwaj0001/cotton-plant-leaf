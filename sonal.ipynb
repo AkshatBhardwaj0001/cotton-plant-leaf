{
 "cells": [
  {
   "cell_type": "markdown",
   "metadata": {},
   "source": [
    "# Data Splitting"
   ]
  },
  {
   "cell_type": "code",
   "execution_count": 42,
   "metadata": {},
   "outputs": [
    {
     "name": "stdout",
     "output_type": "stream",
     "text": [
      "Data split completed successfully.\n"
     ]
    }
   ],
   "source": [
    "import os\n",
    "import shutil\n",
    "from sklearn.model_selection import train_test_split\n",
    "\n",
    "# Define paths\n",
    "data_dir = '5 Black and white'  # Path to the directory containing all your data\n",
    "train_dir = 'data/train'  # Path to the directory where you want to store the training data\n",
    "val_dir = 'data/val'  # Path to the directory where you want to store the validation data\n",
    "test_dir = 'data/test'  # Path to the directory where you want to store the test data\n",
    "\n",
    "# Create directories if they don't exist\n",
    "os.makedirs(train_dir, exist_ok=True)\n",
    "os.makedirs(val_dir, exist_ok=True)\n",
    "os.makedirs(test_dir, exist_ok=True)\n",
    "\n",
    "# List all subdirectories (classes) in the data directory\n",
    "classes = os.listdir(data_dir)\n",
    "\n",
    "# Split data into training and validation sets\n",
    "for cls in classes:\n",
    "    cls_dir = os.path.join(data_dir, cls)\n",
    "    images = os.listdir(cls_dir)\n",
    "    train_images, test_images = train_test_split(images, test_size=0.2, random_state=42)\n",
    "    val_images, test_images = train_test_split(test_images, test_size=0.5, random_state=42)\n",
    "\n",
    "    # Move images to respective directories\n",
    "    for img in train_images:\n",
    "        src = os.path.join(cls_dir, img)\n",
    "        dst = os.path.join(train_dir, cls, img)\n",
    "        os.makedirs(os.path.dirname(dst), exist_ok=True)\n",
    "        shutil.copy(src, dst)\n",
    "\n",
    "    for img in val_images:\n",
    "        src = os.path.join(cls_dir, img)\n",
    "        dst = os.path.join(val_dir, cls, img)\n",
    "        os.makedirs(os.path.dirname(dst), exist_ok=True)\n",
    "        shutil.copy(src, dst)\n",
    "\n",
    "    for img in test_images:\n",
    "        src = os.path.join(cls_dir, img)\n",
    "        dst = os.path.join(test_dir, cls, img)\n",
    "        os.makedirs(os.path.dirname(dst), exist_ok=True)\n",
    "        shutil.copy(src, dst)\n",
    "\n",
    "print(\"Data split completed successfully.\")\n"
   ]
  },
  {
   "cell_type": "markdown",
   "metadata": {},
   "source": [
    "# model creation"
   ]
  },
  {
   "cell_type": "code",
   "execution_count": 54,
   "metadata": {},
   "outputs": [
    {
     "name": "stdout",
     "output_type": "stream",
     "text": [
      "Validation Accuracy: 0.7411273486430062\n",
      "Test Accuracy: 0.732776617954071\n",
      "Classification Report:\n",
      "              precision    recall  f1-score   support\n",
      "\n",
      "           0       0.71      0.62      0.67        80\n",
      "           1       0.72      0.88      0.79        80\n",
      "           2       0.78      0.71      0.75        80\n",
      "           3       0.68      0.81      0.74        80\n",
      "           4       0.76      0.76      0.76        80\n",
      "           5       0.75      0.61      0.67        79\n",
      "\n",
      "    accuracy                           0.73       479\n",
      "   macro avg       0.74      0.73      0.73       479\n",
      "weighted avg       0.74      0.73      0.73       479\n",
      "\n"
     ]
    },
    {
     "data": {
      "text/plain": [
       "['random_forest_model.pkl']"
      ]
     },
     "execution_count": 54,
     "metadata": {},
     "output_type": "execute_result"
    }
   ],
   "source": [
    "import os\n",
    "import cv2\n",
    "import numpy as np\n",
    "from sklearn.ensemble import RandomForestClassifier\n",
    "from sklearn.metrics import accuracy_score, classification_report\n",
    "from sklearn.utils.class_weight import compute_class_weight\n",
    "from sklearn.model_selection import train_test_split\n",
    "import joblib\n",
    "# Function to load images and labels from a directory\n",
    "def load_data(directory):\n",
    "    images = []\n",
    "    labels = []\n",
    "    class_names = os.listdir(directory)\n",
    "    label_map = {class_name: i for i, class_name in enumerate(class_names)}\n",
    "    \n",
    "    for class_name in class_names:\n",
    "        class_dir = os.path.join(directory, class_name)\n",
    "        for filename in os.listdir(class_dir):\n",
    "            image_path = os.path.join(class_dir, filename)\n",
    "            image = cv2.imread(image_path, cv2.IMREAD_GRAYSCALE)\n",
    "            image = cv2.resize(image, (224, 224))  # Resize images if needed\n",
    "            image= image/255.0\n",
    "            images.append(image)\n",
    "            labels.append(label_map[class_name])\n",
    "    \n",
    "    return np.array(images), np.array(labels)\n",
    "\n",
    "# Load training data\n",
    "train_dir = \"data/train\"\n",
    "X_train, y_train = load_data(train_dir)\n",
    "\n",
    "# Load validation data\n",
    "val_dir = \"data/val\"\n",
    "X_val, y_val = load_data(val_dir)\n",
    "\n",
    "# Load test data\n",
    "test_dir = \"data/test\"\n",
    "X_test, y_test = load_data(test_dir)\n",
    "\n",
    "# Reshape the data for RandomForestClassifier\n",
    "X_train_flat = X_train.reshape(X_train.shape[0], -1)\n",
    "X_val_flat = X_val.reshape(X_val.shape[0], -1)\n",
    "X_test_flat = X_test.reshape(X_test.shape[0], -1)\n",
    "\n",
    "# Initialize and train Random Forest Classifier\n",
    "rf_classifier = RandomForestClassifier(n_estimators=100, random_state=42)\n",
    "rf_classifier.fit(X_train_flat, y_train)\n",
    "\n",
    "# Predictions on validation set\n",
    "y_val_pred = rf_classifier.predict(X_val_flat)\n",
    "val_accuracy = accuracy_score(y_val, y_val_pred)\n",
    "print(\"Validation Accuracy:\", val_accuracy)\n",
    "\n",
    "# Predictions on test set\n",
    "y_test_pred = rf_classifier.predict(X_test_flat)\n",
    "test_accuracy = accuracy_score(y_test, y_test_pred)\n",
    "print(\"Test Accuracy:\", test_accuracy)\n",
    "\n",
    "# Classification report on test set\n",
    "print(\"Classification Report:\")\n",
    "print(classification_report(y_test, y_test_pred))\n",
    "model_file = \"random_forest_model.pkl\"\n",
    "joblib.dump(rf_classifier, model_file)\n"
   ]
  },
  {
   "cell_type": "code",
   "execution_count": 58,
   "metadata": {},
   "outputs": [
    {
     "name": "stdout",
     "output_type": "stream",
     "text": [
      "Predicted class: Bacterial Blight\n"
     ]
    }
   ],
   "source": [
    "\n",
    "import cv2\n",
    "import numpy as np\n",
    "import joblib\n",
    "model=joblib.load(\"random_forest_model.pkl\")\n",
    "# Load and preprocess the image\n",
    "def preprocess_image(image_path):\n",
    "    image = cv2.imread(image_path, cv2.IMREAD_GRAYSCALE)\n",
    "    image = cv2.resize(image, (224, 224))  # Resize to (224, 224)\n",
    "    # normalize\n",
    "    image = image / 255.0\n",
    "    image_flat = image.flatten()  # Flatten the image\n",
    "    return image_flat\n",
    "\n",
    "# Example usage\n",
    "image_path = \"3.jpg\"\n",
    "preprocessed_image = preprocess_image(image_path)\n",
    "\n",
    "class_lables={0:'Aphids',1:\"Army Worm\",2:\"Bacterial Blight\",3:\"Healthy\",4:\"Powdery Mildew\",5:\"Target Spot\"}\n",
    "\n",
    "# Make prediction with the trained model\n",
    "predicted_class = rf_classifier.predict([preprocessed_image])  # Pass the preprocessed image as a list\n",
    "\n",
    "print(\"Predicted class:\", class_lables[predicted_class[0]])"
   ]
  }
 ],
 "metadata": {
  "kernelspec": {
   "display_name": "Python 3",
   "language": "python",
   "name": "python3"
  },
  "language_info": {
   "codemirror_mode": {
    "name": "ipython",
    "version": 3
   },
   "file_extension": ".py",
   "mimetype": "text/x-python",
   "name": "python",
   "nbconvert_exporter": "python",
   "pygments_lexer": "ipython3",
   "version": "3.8.3"
  }
 },
 "nbformat": 4,
 "nbformat_minor": 2
}
